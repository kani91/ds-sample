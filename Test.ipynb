{
 "cells": [
  {
   "cell_type": "code",
   "execution_count": 7,
   "metadata": {},
   "outputs": [],
   "source": [
    "import pandas as pd \n",
    "from datetime import datetime\n",
    "import sqlite3\n",
    "from datetime import timedelta\n",
    "import time \n"
   ]
  },
  {
   "cell_type": "code",
   "execution_count": 7,
   "metadata": {},
   "outputs": [],
   "source": []
  },
  {
   "cell_type": "code",
   "execution_count": 8,
   "metadata": {},
   "outputs": [],
   "source": []
  },
  {
   "cell_type": "code",
   "execution_count": 8,
   "metadata": {},
   "outputs": [],
   "source": [
    "\n",
    "def Get_best_selling_books_multiple(query_date_start,query_date_end,query_bk_type):\n",
    "    list_of_books=[]\n",
    "    delta = timedelta(days=7)\n",
    "        \n",
    "    while query_date_start <= query_date_end:\n",
    "        date=query_date_start \n",
    "        query_bk_type=query_bk_type\n",
    "        large_list_of_books=Get_best_selling_books_for_single_DateAndType(query_date=date,query_bk_type=query_bk_type)\n",
    "        small_list=Limit_list_attributes(large_list_of_books)\n",
    "        list_of_books.append(Add_meta_details(small_list,query_date=date,query_bk_type=query_bk_type))\n",
    "        query_date_start+= delta\n",
    "        time.sleep(6)\n",
    "        \n",
    "    return list_of_books\n",
    "        \n",
    "\n",
    "def Get_best_selling_books_for_single_DateAndType(query_date,query_bk_type):\n",
    "    # for a single date and type, function returns the list of results from the nytimes website to get best sellers for that week/type\n",
    "    \n",
    "    root_url=\"https://api.nytimes.com/svc/books/v3/lists\"\n",
    "    auth_key=Auth_key()\n",
    "    print(f\"{root_url}/{query_date}/{query_bk_type}.json?api-key={auth_key}\")\n",
    "    raw_data_file=pd.read_json(f\"{root_url}/{query_date}/{query_bk_type}.json?api-key={auth_key}\")\n",
    "    return raw_data_file.to_dict('records')[1]['results']\n",
    "\n",
    "def Auth_key():\n",
    "    #assigns the authorization key\n",
    "    auth_key=\"QslaLf6TwiaqpJUKKi1GVUBDdl5MrIo2\"\n",
    "    return auth_key\n",
    "\n",
    "def Limit_list_attributes(large_list_of_books):\n",
    "     #transform a large list to a limited set of attributes \n",
    "    small_list_of_books=[]\n",
    "    for large_book in large_list_of_books:\n",
    "        small_list_of_books.append(Get_limited_attribute(large_book))\n",
    "    return small_list_of_books\n",
    "\n",
    "def Get_limited_attribute(book):\n",
    "    #given a book with a large set of dictionaries, get a book with a small set of attributes\n",
    "    limited_attribute_set=Assign_limit_attributes()\n",
    "    limited_listed_book={k:v for k, v in book.items() if k in limited_attribute_set}\n",
    "    return limited_listed_book\n",
    "\n",
    "\n",
    "\n",
    "def Add_meta_details(small_list,query_date,query_bk_type):\n",
    "    #for a given list, append query details of type and date\n",
    "    df_listed_books=pd.DataFrame(small_list)\n",
    "    df_listed_books['date']=query_date\n",
    "    df_listed_books['book_type']=query_bk_type\n",
    "    return df_listed_books\n",
    "\n",
    "\n",
    "def Assign_limit_attributes():\n",
    "    #assign a limited set of attributes \n",
    "    limited_attribute_set=['title','weeks_on_list','primary_isbn13','publisher','author','rank','book_image_height','book_image_width','price','isbns','buy_links','book_image','amazon_product_url']\n",
    "    return limited_attribute_set\n",
    "        "
   ]
  },
  {
   "cell_type": "code",
   "execution_count": 12,
   "metadata": {},
   "outputs": [
    {
     "name": "stdout",
     "output_type": "stream",
     "text": [
      "https://api.nytimes.com/svc/books/v3/lists/2009-12-31/hardcover-nonfiction.json?api-key=QslaLf6TwiaqpJUKKi1GVUBDdl5MrIo2\n",
      "https://api.nytimes.com/svc/books/v3/lists/2010-01-07/hardcover-nonfiction.json?api-key=QslaLf6TwiaqpJUKKi1GVUBDdl5MrIo2\n"
     ]
    }
   ],
   "source": [
    "books=Get_best_selling_books_multiple(query_date_start=date(2009, 12, 31),query_date_end=date(2010,1,7) ,query_bk_type=\"hardcover-nonfiction\")"
   ]
  },
  {
   "cell_type": "code",
   "execution_count": 13,
   "metadata": {},
   "outputs": [],
   "source": [
    "full_list=pd.concat(books)"
   ]
  },
  {
   "cell_type": "code",
   "execution_count": 14,
   "metadata": {},
   "outputs": [
    {
     "data": {
      "text/plain": [
       "(40, 15)"
      ]
     },
     "execution_count": 14,
     "metadata": {},
     "output_type": "execute_result"
    }
   ],
   "source": [
    "full_list.shape"
   ]
  }
 ],
 "metadata": {
  "kernelspec": {
   "display_name": "Python 3",
   "language": "python",
   "name": "python3"
  },
  "language_info": {
   "codemirror_mode": {
    "name": "ipython",
    "version": 3
   },
   "file_extension": ".py",
   "mimetype": "text/x-python",
   "name": "python",
   "nbconvert_exporter": "python",
   "pygments_lexer": "ipython3",
   "version": "3.7.3"
  }
 },
 "nbformat": 4,
 "nbformat_minor": 2
}
